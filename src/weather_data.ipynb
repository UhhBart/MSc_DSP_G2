{
 "cells": [
  {
   "cell_type": "code",
   "execution_count": 24,
   "metadata": {},
   "outputs": [],
   "source": [
    "import pandas as pd \n",
    "import matplotlib.pyplot as plt\n",
    "import numpy as np\n",
    "import seaborn as sns\n",
    "import folium\n",
    "import math\n",
    "import datetime\n",
    "import geopandas as gpd\n",
    "import urllib.request\n",
    "import requests\n",
    "import json\n",
    "import time\n",
    "import openmeteo_requests\n",
    "import requests_cache\n",
    "from folium.plugins import MarkerCluster\n",
    "from shapely.geometry import Polygon, Point\n",
    "from geopy.geocoders import Nominatim\n",
    "from tqdm import tqdm\n",
    "from geopy.distance import geodesic\n",
    "from retry_requests import retry\n",
    "from shapely.wkt import loads"
   ]
  },
  {
   "cell_type": "code",
   "execution_count": 25,
   "metadata": {},
   "outputs": [],
   "source": [
    "NUM_SPLITS = 10"
   ]
  },
  {
   "cell_type": "code",
   "execution_count": 26,
   "metadata": {},
   "outputs": [],
   "source": [
    "# grid df\n",
    "# sample df\n",
    "\n",
    "grids = pd.read_csv(\"data_bomen/grid_enriched_200.csv\", sep=\",\", encoding=\"utf-8\")\n",
    "negative_samples = pd.read_csv(\"data_bomen/negative_samples_200.csv\", sep=\",\", encoding=\"utf-8\")"
   ]
  },
  {
   "cell_type": "code",
   "execution_count": 27,
   "metadata": {},
   "outputs": [
    {
     "name": "stderr",
     "output_type": "stream",
     "text": [
      "/Users/Reimer/opt/anaconda3/envs/fundamentals-data-science/lib/python3.11/site-packages/geopandas/geoseries.py:645: FutureWarning: the convert_dtype parameter is deprecated and will be removed in a future version.  Do ``ser.astype(object).apply()`` instead if you want ``convert_dtype=False``.\n",
      "  result = super().apply(func, convert_dtype=convert_dtype, args=args, **kwargs)\n",
      "/Users/Reimer/opt/anaconda3/envs/fundamentals-data-science/lib/python3.11/site-packages/geopandas/geoseries.py:645: FutureWarning: the convert_dtype parameter is deprecated and will be removed in a future version.  Do ``ser.astype(object).apply()`` instead if you want ``convert_dtype=False``.\n",
      "  result = super().apply(func, convert_dtype=convert_dtype, args=args, **kwargs)\n"
     ]
    }
   ],
   "source": [
    "grids['geometry'] = grids['geometry'].apply(lambda x: loads(x))\n",
    "grids_gdf = gpd.GeoDataFrame(grids, geometry='geometry')\n",
    "\n",
    "grids_gdf['centroid'] = grids_gdf['geometry'].centroid\n",
    "grids_gdf['middle_lat'] = grids_gdf['centroid'].apply(lambda point: point.y)\n",
    "grids_gdf['middle_lon'] = grids_gdf['centroid'].apply(lambda point: point.x)\n",
    "\n",
    "negative_samples = negative_samples.merge(grids_gdf[['middle_lat', 'middle_lon']], left_on='grid_id', right_index=True)\n",
    "\n",
    "negative_samples.rename(columns={'middle_lat': 'LAT', 'middle_lon': 'LON'}, inplace=True)\n",
    "columns_order = ['Date', 'grid_id', 'LAT', 'LON'] + [col for col in negative_samples.columns if col not in ['Date', 'grid_id', 'LAT', 'LON']]\n",
    "negative_samples = negative_samples[columns_order]\n",
    "\n",
    "negative_samples = negative_samples.drop('Unnamed: 0', axis=1, errors='ignore')\n",
    "\n",
    "negative_samples = negative_samples.sort_index()"
   ]
  },
  {
   "cell_type": "code",
   "execution_count": 28,
   "metadata": {},
   "outputs": [],
   "source": [
    "# Setup the Open-Meteo API client with cache and retry on error\n",
    "cache_session = requests_cache.CachedSession('.cache', expire_after = -1)\n",
    "retry_session = retry(cache_session, retries = 5, backoff_factor = 0.2)\n",
    "openmeteo = openmeteo_requests.Client(session = retry_session)"
   ]
  },
  {
   "cell_type": "code",
   "execution_count": 29,
   "metadata": {},
   "outputs": [],
   "source": [
    "def get_weather_data(df_split):\n",
    "    # NOTE: order of weather vars matters for retrieving correct data from API\n",
    "    # TODO: check: what does api do when nothing available? NAN? and necessary to set up connection for every df split?\n",
    "    weather_variables = {\n",
    "        'temperature_2m': [],\n",
    "        'relative_humidity_2m': [],\n",
    "        'dew_point_2m': [],\n",
    "        'apparent_temperature': [],\n",
    "        'precipitation': [],\n",
    "        'rain': [],\n",
    "        'snowfall': [],\n",
    "        'snow_depth': [],\n",
    "        'weather_code': [],\n",
    "        'pressure_msl': [],\n",
    "        'surface_pressure': [],\n",
    "        'cloud_cover': [],\n",
    "        'cloud_cover_low': [],\n",
    "        'cloud_cover_mid': [],\n",
    "        'cloud_cover_high': [],\n",
    "        'et0_fao_evapotranspiration': [],\n",
    "        'vapour_pressure_deficit': [],\n",
    "        'wind_speed_10m': [],\n",
    "        'wind_speed_100m': [],\n",
    "        'wind_direction_10m': [],\n",
    "        'wind_direction_100m': [],\n",
    "        'wind_gusts_10m': [],\n",
    "        'soil_temperature_0_to_7cm': [],\n",
    "        'soil_temperature_7_to_28cm': [],\n",
    "        'soil_temperature_28_to_100cm': [],\n",
    "        'soil_temperature_100_to_255cm': [],\n",
    "        'soil_moisture_0_to_7cm': [],\n",
    "        'soil_moisture_7_to_28cm': [],\n",
    "        'soil_moisture_28_to_100cm': [],\n",
    "        'soil_moisture_100_to_255cm': []\n",
    "    }\n",
    "    for i, row in df_split.iterrows():\n",
    "        latitude = row['LAT']\n",
    "        longitude = row['LON']\n",
    "        dateStr = row['Date']\n",
    "        timeStr = row['Hour']\n",
    "\n",
    "        latitude='{:.5f}'.format(latitude)\n",
    "        longitude='{:.5f}'.format(longitude)\n",
    "\n",
    "        url = \"https://archive-api.open-meteo.com/v1/archive\"\n",
    "        params = {\n",
    "            \"latitude\": latitude,\n",
    "            \"longitude\": longitude,\n",
    "            \"start_date\": dateStr,\n",
    "            \"end_date\": dateStr,\n",
    "            \"hourly\": [\"temperature_2m\", \"relative_humidity_2m\", \"dew_point_2m\", \"apparent_temperature\", \"precipitation\", \"rain\", \"snowfall\", \"snow_depth\", \"weather_code\", \"pressure_msl\", \"surface_pressure\", \"cloud_cover\", \"cloud_cover_low\", \"cloud_cover_mid\", \"cloud_cover_high\", \"et0_fao_evapotranspiration\", \"vapour_pressure_deficit\", \"wind_speed_10m\", \"wind_speed_100m\", \"wind_direction_10m\", \"wind_direction_100m\", \"wind_gusts_10m\", \"soil_temperature_0_to_7cm\", \"soil_temperature_7_to_28cm\", \"soil_temperature_28_to_100cm\", \"soil_temperature_100_to_255cm\", \"soil_moisture_0_to_7cm\", \"soil_moisture_7_to_28cm\", \"soil_moisture_28_to_100cm\", \"soil_moisture_100_to_255cm\"]\n",
    "        }\n",
    "        responses = openmeteo.weather_api(url, params=params)\n",
    "\n",
    "        # Process first location. Add a for-loop for multiple locations or weather models\n",
    "        response = responses[0]\n",
    "\n",
    "        # Process hourly data. The order of variables needs to be the same as requested.\n",
    "        hourly = response.Hourly()\n",
    "\n",
    "        # Get data for each var\n",
    "        for i, (name, var_list) in enumerate(weather_variables.items()):\n",
    "            var_list.append(hourly.Variables(i).ValuesAsNumpy()[int(timeStr)])\n",
    "\n",
    "    for name, var_list in weather_variables.items():\n",
    "        df_split[name] = var_list\n",
    "    \n",
    "    return df_split"
   ]
  },
  {
   "cell_type": "code",
   "execution_count": 30,
   "metadata": {},
   "outputs": [
    {
     "name": "stderr",
     "output_type": "stream",
     "text": [
      "/Users/Reimer/opt/anaconda3/envs/fundamentals-data-science/lib/python3.11/site-packages/numpy/core/fromnumeric.py:59: FutureWarning: 'DataFrame.swapaxes' is deprecated and will be removed in a future version. Please use 'DataFrame.transpose' instead.\n",
      "  return bound(*args, **kwds)\n"
     ]
    },
    {
     "name": "stdout",
     "output_type": "stream",
     "text": [
      "Getting data for subsplit 0\n",
      "Waiting for one minute...\n",
      "Getting data for subsplit 1\n",
      "Waiting for one minute...\n",
      "Getting data for subsplit 2\n",
      "Waiting for one minute...\n",
      "Getting data for subsplit 3\n",
      "Waiting for one minute...\n",
      "Getting data for subsplit 4\n",
      "Waiting for one minute...\n",
      "Getting data for subsplit 5\n",
      "Waiting for one minute...\n",
      "Getting data for subsplit 6\n",
      "Waiting for one minute...\n",
      "Getting data for subsplit 7\n",
      "Waiting for one minute...\n",
      "Getting data for subsplit 8\n"
     ]
    },
    {
     "ename": "OpenMeteoRequestsError",
     "evalue": "{'reason': 'Hourly API request limit exceeded. Please try again in the next hour.', 'error': True}",
     "output_type": "error",
     "traceback": [
      "\u001b[0;31m---------------------------------------------------------------------------\u001b[0m",
      "\u001b[0;31mOpenMeteoRequestsError\u001b[0m                    Traceback (most recent call last)",
      "Cell \u001b[0;32mIn[30], line 6\u001b[0m\n\u001b[1;32m      4\u001b[0m \u001b[39mfor\u001b[39;00m i, df_split \u001b[39min\u001b[39;00m \u001b[39menumerate\u001b[39m(df_splits):\n\u001b[1;32m      5\u001b[0m     \u001b[39mprint\u001b[39m(\u001b[39mf\u001b[39m\u001b[39m\"\u001b[39m\u001b[39mGetting data for subsplit \u001b[39m\u001b[39m{\u001b[39;00mi\u001b[39m}\u001b[39;00m\u001b[39m\"\u001b[39m)\n\u001b[0;32m----> 6\u001b[0m     splits\u001b[39m.\u001b[39mappend(get_weather_data(df_split))\n\u001b[1;32m      8\u001b[0m     \u001b[39mif\u001b[39;00m i \u001b[39m<\u001b[39m \u001b[39mlen\u001b[39m(df_splits) \u001b[39m-\u001b[39m \u001b[39m1\u001b[39m:\n\u001b[1;32m      9\u001b[0m         \u001b[39mprint\u001b[39m(\u001b[39m\"\u001b[39m\u001b[39mWaiting for one minute...\u001b[39m\u001b[39m\"\u001b[39m)\n",
      "Cell \u001b[0;32mIn[29], line 53\u001b[0m, in \u001b[0;36mget_weather_data\u001b[0;34m(df_split)\u001b[0m\n\u001b[1;32m     45\u001b[0m url \u001b[39m=\u001b[39m \u001b[39m\"\u001b[39m\u001b[39mhttps://archive-api.open-meteo.com/v1/archive\u001b[39m\u001b[39m\"\u001b[39m\n\u001b[1;32m     46\u001b[0m params \u001b[39m=\u001b[39m {\n\u001b[1;32m     47\u001b[0m     \u001b[39m\"\u001b[39m\u001b[39mlatitude\u001b[39m\u001b[39m\"\u001b[39m: latitude,\n\u001b[1;32m     48\u001b[0m     \u001b[39m\"\u001b[39m\u001b[39mlongitude\u001b[39m\u001b[39m\"\u001b[39m: longitude,\n\u001b[0;32m   (...)\u001b[0m\n\u001b[1;32m     51\u001b[0m     \u001b[39m\"\u001b[39m\u001b[39mhourly\u001b[39m\u001b[39m\"\u001b[39m: [\u001b[39m\"\u001b[39m\u001b[39mtemperature_2m\u001b[39m\u001b[39m\"\u001b[39m, \u001b[39m\"\u001b[39m\u001b[39mrelative_humidity_2m\u001b[39m\u001b[39m\"\u001b[39m, \u001b[39m\"\u001b[39m\u001b[39mdew_point_2m\u001b[39m\u001b[39m\"\u001b[39m, \u001b[39m\"\u001b[39m\u001b[39mapparent_temperature\u001b[39m\u001b[39m\"\u001b[39m, \u001b[39m\"\u001b[39m\u001b[39mprecipitation\u001b[39m\u001b[39m\"\u001b[39m, \u001b[39m\"\u001b[39m\u001b[39mrain\u001b[39m\u001b[39m\"\u001b[39m, \u001b[39m\"\u001b[39m\u001b[39msnowfall\u001b[39m\u001b[39m\"\u001b[39m, \u001b[39m\"\u001b[39m\u001b[39msnow_depth\u001b[39m\u001b[39m\"\u001b[39m, \u001b[39m\"\u001b[39m\u001b[39mweather_code\u001b[39m\u001b[39m\"\u001b[39m, \u001b[39m\"\u001b[39m\u001b[39mpressure_msl\u001b[39m\u001b[39m\"\u001b[39m, \u001b[39m\"\u001b[39m\u001b[39msurface_pressure\u001b[39m\u001b[39m\"\u001b[39m, \u001b[39m\"\u001b[39m\u001b[39mcloud_cover\u001b[39m\u001b[39m\"\u001b[39m, \u001b[39m\"\u001b[39m\u001b[39mcloud_cover_low\u001b[39m\u001b[39m\"\u001b[39m, \u001b[39m\"\u001b[39m\u001b[39mcloud_cover_mid\u001b[39m\u001b[39m\"\u001b[39m, \u001b[39m\"\u001b[39m\u001b[39mcloud_cover_high\u001b[39m\u001b[39m\"\u001b[39m, \u001b[39m\"\u001b[39m\u001b[39met0_fao_evapotranspiration\u001b[39m\u001b[39m\"\u001b[39m, \u001b[39m\"\u001b[39m\u001b[39mvapour_pressure_deficit\u001b[39m\u001b[39m\"\u001b[39m, \u001b[39m\"\u001b[39m\u001b[39mwind_speed_10m\u001b[39m\u001b[39m\"\u001b[39m, \u001b[39m\"\u001b[39m\u001b[39mwind_speed_100m\u001b[39m\u001b[39m\"\u001b[39m, \u001b[39m\"\u001b[39m\u001b[39mwind_direction_10m\u001b[39m\u001b[39m\"\u001b[39m, \u001b[39m\"\u001b[39m\u001b[39mwind_direction_100m\u001b[39m\u001b[39m\"\u001b[39m, \u001b[39m\"\u001b[39m\u001b[39mwind_gusts_10m\u001b[39m\u001b[39m\"\u001b[39m, \u001b[39m\"\u001b[39m\u001b[39msoil_temperature_0_to_7cm\u001b[39m\u001b[39m\"\u001b[39m, \u001b[39m\"\u001b[39m\u001b[39msoil_temperature_7_to_28cm\u001b[39m\u001b[39m\"\u001b[39m, \u001b[39m\"\u001b[39m\u001b[39msoil_temperature_28_to_100cm\u001b[39m\u001b[39m\"\u001b[39m, \u001b[39m\"\u001b[39m\u001b[39msoil_temperature_100_to_255cm\u001b[39m\u001b[39m\"\u001b[39m, \u001b[39m\"\u001b[39m\u001b[39msoil_moisture_0_to_7cm\u001b[39m\u001b[39m\"\u001b[39m, \u001b[39m\"\u001b[39m\u001b[39msoil_moisture_7_to_28cm\u001b[39m\u001b[39m\"\u001b[39m, \u001b[39m\"\u001b[39m\u001b[39msoil_moisture_28_to_100cm\u001b[39m\u001b[39m\"\u001b[39m, \u001b[39m\"\u001b[39m\u001b[39msoil_moisture_100_to_255cm\u001b[39m\u001b[39m\"\u001b[39m]\n\u001b[1;32m     52\u001b[0m }\n\u001b[0;32m---> 53\u001b[0m responses \u001b[39m=\u001b[39m openmeteo\u001b[39m.\u001b[39;49mweather_api(url, params\u001b[39m=\u001b[39;49mparams)\n\u001b[1;32m     55\u001b[0m \u001b[39m# Process first location. Add a for-loop for multiple locations or weather models\u001b[39;00m\n\u001b[1;32m     56\u001b[0m response \u001b[39m=\u001b[39m responses[\u001b[39m0\u001b[39m]\n",
      "File \u001b[0;32m~/opt/anaconda3/envs/fundamentals-data-science/lib/python3.11/site-packages/openmeteo_requests/Client.py:47\u001b[0m, in \u001b[0;36mClient.weather_api\u001b[0;34m(self, url, params)\u001b[0m\n\u001b[1;32m     45\u001b[0m \u001b[39mdef\u001b[39;00m \u001b[39mweather_api\u001b[39m(\u001b[39mself\u001b[39m, url: \u001b[39mstr\u001b[39m, params: \u001b[39many\u001b[39m) \u001b[39m-\u001b[39m\u001b[39m>\u001b[39m \u001b[39mlist\u001b[39m[WeatherApiResponse]:\n\u001b[1;32m     46\u001b[0m \u001b[39m    \u001b[39m\u001b[39m\"\"\"Get and decode as weather api\"\"\"\u001b[39;00m\n\u001b[0;32m---> 47\u001b[0m     \u001b[39mreturn\u001b[39;00m \u001b[39mself\u001b[39;49m\u001b[39m.\u001b[39;49m_get(WeatherApiResponse, url, params)\n",
      "File \u001b[0;32m~/opt/anaconda3/envs/fundamentals-data-science/lib/python3.11/site-packages/openmeteo_requests/Client.py:30\u001b[0m, in \u001b[0;36mClient._get\u001b[0;34m(self, cls, url, params)\u001b[0m\n\u001b[1;32m     28\u001b[0m \u001b[39mif\u001b[39;00m response\u001b[39m.\u001b[39mstatus_code \u001b[39min\u001b[39;00m [\u001b[39m400\u001b[39m, \u001b[39m429\u001b[39m]:\n\u001b[1;32m     29\u001b[0m     response_body \u001b[39m=\u001b[39m response\u001b[39m.\u001b[39mjson()\n\u001b[0;32m---> 30\u001b[0m     \u001b[39mraise\u001b[39;00m OpenMeteoRequestsError(response_body)\n\u001b[1;32m     32\u001b[0m response\u001b[39m.\u001b[39mraise_for_status()\n\u001b[1;32m     34\u001b[0m data \u001b[39m=\u001b[39m response\u001b[39m.\u001b[39mcontent\n",
      "\u001b[0;31mOpenMeteoRequestsError\u001b[0m: {'reason': 'Hourly API request limit exceeded. Please try again in the next hour.', 'error': True}"
     ]
    }
   ],
   "source": [
    "df_splits = np.array_split(negative_samples, NUM_SPLITS)\n",
    "\n",
    "splits = []\n",
    "for i, df_split in enumerate(df_splits):\n",
    "    print(f\"Getting data for subsplit {i}\")\n",
    "    splits.append(get_weather_data(df_split))\n",
    "    \n",
    "    if i < len(df_splits) - 1:\n",
    "        print(\"Waiting for one minute...\")\n",
    "        time.sleep(60) \n",
    "\n",
    "\n",
    "negative_samples_with_weather = pd.concat(splits, axis=1)\n"
   ]
  }
 ],
 "metadata": {
  "kernelspec": {
   "display_name": "fundamentals-data-science",
   "language": "python",
   "name": "python3"
  },
  "language_info": {
   "codemirror_mode": {
    "name": "ipython",
    "version": 3
   },
   "file_extension": ".py",
   "mimetype": "text/x-python",
   "name": "python",
   "nbconvert_exporter": "python",
   "pygments_lexer": "ipython3",
   "version": "3.11.4"
  },
  "orig_nbformat": 4
 },
 "nbformat": 4,
 "nbformat_minor": 2
}
