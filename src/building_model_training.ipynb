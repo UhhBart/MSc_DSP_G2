{
 "cells": [
  {
   "cell_type": "code",
   "execution_count": 1,
   "metadata": {},
   "outputs": [],
   "source": [
    "import pandas as pd \n",
    "import matplotlib.pyplot as plt\n",
    "import numpy as np\n",
    "import seaborn as sns\n",
    "from geopy.geocoders import Nominatim\n",
    "from tqdm import tqdm\n",
    "from geopy.distance import geodesic\n",
    "import folium\n",
    "from folium.plugins import MarkerCluster\n",
    "import math\n",
    "import datetime\n",
    "import geopandas as gpd\n",
    "import urllib.request\n",
    "import requests\n",
    "import json\n",
    "import openmeteo_requests\n",
    "import requests_cache\n",
    "from shapely.geometry import Polygon, Point\n",
    "from retry_requests import retry\n",
    "from shapely.wkt import loads\n",
    "import random \n",
    "from pathlib import Path\n",
    "from sklearn.metrics import accuracy_score\n",
    "from sklearn import metrics\n",
    "import xgboost as xgb\n",
    "from sklearn.linear_model import LogisticRegression\n",
    "from sklearn.metrics import accuracy_score, classification_report, confusion_matrix\n",
    "from sklearn.model_selection import GridSearchCV\n",
    "from sklearn.model_selection import cross_val_score\n",
    "from sklearn import svm"
   ]
  },
  {
   "cell_type": "markdown",
   "metadata": {},
   "source": [
    "# XGBoost"
   ]
  },
  {
   "cell_type": "code",
   "execution_count": null,
   "metadata": {},
   "outputs": [],
   "source": [
    "# XGBOOST\n",
    "from sklearn.model_selection import train_test_split\n",
    "import warnings\n",
    "import xgboost as xgb\n",
    "import matplotlib.pyplot as plt\n",
    "import pandas as pd\n",
    "from pathlib import Path\n",
    "from sklearn.metrics import accuracy_score\n",
    "import numpy as np\n",
    "\n",
    "\n",
    "warnings.filterwarnings(\"ignore\")\n",
    "\n",
    "# DATA PATHS\n",
    "POSITIVES_PATH = Path(\"final_data/buildings/positive_samples_buildings_200.csv\")\n",
    "NEGATIVES_PATH_TRUE = Path(\"final_data/buildings/negative_samples_buildings_200.csv\")\n",
    "NEGATIVES_PATH_FALSE = Path(\"final_data/buildings/TMP_negative_samples_buildings_200.csv\")\n",
    "NEGATIVES_PATH_RANDOM = Path(\"final_data/buildings/TMP3_negative_samples_buildings_200.csv\")\n",
    "\n",
    "# POSITIVE SAMPLE BUILDINGS\n",
    "POSITIVES = pd.read_csv(POSITIVES_PATH)\n",
    "\n",
    "# NEGATIVE SAMPLE BUILDINGS\n",
    "NEGATIVES_TRUE = pd.read_csv(NEGATIVES_PATH_TRUE)\n",
    "NEGATIVES_FALSE = pd.read_csv(NEGATIVES_PATH_FALSE)\n",
    "NEGATIVES_RANDOM = pd.read_csv(NEGATIVES_PATH_RANDOM)\n",
    "\n",
    "# OUTPUTS\n",
    "POSITIVES['label'] = 1\n",
    "NEGATIVES_TRUE['label'] = 0\n",
    "NEGATIVES_FALSE['label'] = 0\n",
    "NEGATIVES_RANDOM['label'] = 0\n",
    "\n",
    "# COMMON COLUMNS\n",
    "common_columns = ['grid_id', 'has_building', 'Gemiddeld Bouwjaar',\n",
    "       'Gewogen Gemiddeld Bouwjaar', 'Voor 1860', '1860-1919', '1920-1939',\n",
    "       '1940-1969', '1970-1985', '1986-2001', 'Na 2001', 'temperature_2m',\n",
    "       'relative_humidity_2m', 'dew_point_2m', 'apparent_temperature',\n",
    "       'precipitation', 'rain', 'snowfall', 'snow_depth', 'weather_code',\n",
    "       'pressure_msl', 'surface_pressure', 'wind_speed_10m',\n",
    "       'wind_direction_10m', 'wind_gusts_10m', 'soil_temperature_0_to_7cm',\n",
    "       'soil_temperature_7_to_28cm', 'soil_temperature_28_to_100cm',\n",
    "       'soil_temperature_100_to_255cm', 'soil_moisture_0_to_7cm',\n",
    "       'soil_moisture_7_to_28cm', 'soil_moisture_28_to_100cm',\n",
    "       'soil_moisture_100_to_255cm']\n",
    "\n",
    "# CONCATENATE POSITIVES AND NEGATIVES\n",
    "DATA = pd.concat([POSITIVES[common_columns + ['label']],\n",
    "                  NEGATIVES_TRUE[common_columns + ['label']],\n",
    "                  NEGATIVES_FALSE[common_columns + ['label']],\n",
    "                  NEGATIVES_RANDOM[common_columns + ['label']]])\n",
    "                  \n",
    "DATA = DATA[['label'] + [col for col in DATA.columns if col != 'label']]\n",
    "\n",
    "X, y = DATA.drop(['label',\n",
    "                  'grid_id',\n",
    "                  'Gemiddeld Bouwjaar'], axis=1), DATA[['label']]\n",
    "\n",
    "cats = X.select_dtypes(exclude=np.number).columns.tolist()\n",
    "\n",
    "for col in cats:\n",
    "   X[col] = X[col].astype('category')\n",
    "\n",
    "X = X[['has_building', 'Gewogen Gemiddeld Bouwjaar', 'wind_gusts_10m']]\n",
    "\n",
    "# SPLIT THE DATA\n",
    "X_train, X_test, y_train, y_test = train_test_split(X, y, test_size=0.3, random_state=1)\n",
    "\n",
    "# CREATE XGBoost DMatrix\n",
    "dtrain_clf = xgb.DMatrix(X_train, y_train, enable_categorical=True)\n",
    "dtest_clf = xgb.DMatrix(X_test, y_test, enable_categorical=True)\n",
    "evals = [(dtrain_clf, \"train\"), (dtest_clf, \"validation\")]\n",
    "\n",
    "# DEFINING HYPERPARAMETERS\n",
    "best_params = {\n",
    "    \"objective\": \"binary:logistic\",\n",
    "    \"eval_metric\": \"auc\",\n",
    "    \"max_depth\": 7,\n",
    "    \"learning_rate\": 0.2, \n",
    "    \"subsample\": 1.0,\n",
    "    \"colsample_bytree\": 0.8,\n",
    "    \"gamma\": 0.2,\n",
    "    \"reg_alpha\": 0.01,  \n",
    "    \"reg_lambda\": 0  \n",
    "}\n",
    "n = 1000\n",
    "\n",
    "\n",
    "# MODEL TRAINING\n",
    "model = xgb.train(\n",
    "    params=best_params,\n",
    "    dtrain=dtrain_clf, \n",
    "    num_boost_round=n, \n",
    "    verbose_eval=250, \n",
    "    evals=evals,\n",
    "    early_stopping_rounds=50\n",
    ")\n",
    "\n",
    "# PREDICTION WITH THE BEST MODEL\n",
    "y_pred_clf = model.predict(dtest_clf)\n",
    "y_pred_labels = (y_pred_clf > 0.5).astype(int)\n",
    "\n",
    "# ACCURACY EVALUATION\n",
    "accuracy = accuracy_score(y_test, y_pred_labels)\n",
    "percentage_correct = accuracy * 100\n",
    "\n",
    "# FEATURE IMPORTANCE PLOT\n",
    "xgb.plot_importance(model, importance_type='gain')\n",
    "plt.show()\n",
    "\n",
    "print(f\"Percentage of correctly classified labels: {percentage_correct:.2f}%\")\n"
   ]
  },
  {
   "cell_type": "code",
   "execution_count": 168,
   "metadata": {},
   "outputs": [
    {
     "name": "stdout",
     "output_type": "stream",
     "text": [
      "XGBoost model saved successfully as a pickle file.\n"
     ]
    }
   ],
   "source": [
    "import pickle\n",
    "\n",
    "# Save the XGBoost model as a pickle file\n",
    "with open(\"models/buildings/FINAL_xgboost_model_buildings.pkl\", \"wb\") as model_file:\n",
    "    pickle.dump(model, model_file)\n",
    "\n",
    "# Print a message indicating that the model has been saved\n",
    "print(\"XGBoost model saved successfully as a pickle file.\")\n",
    "\n"
   ]
  },
  {
   "cell_type": "code",
   "execution_count": null,
   "metadata": {},
   "outputs": [],
   "source": [
    "# HYPERPARAMETER TUNING\n",
    "from sklearn.model_selection import GridSearchCV\n",
    "param_grid = {\n",
    "    'max_depth': [3, 5, 7],\n",
    "    'learning_rate': [0.01, 0.1, 0.2],\n",
    "    'subsample': [0.8, 0.9, 1.0],\n",
    "    'colsample_bytree': [0.8, 0.9, 1.0],\n",
    "    'gamma': [0, 0.1, 0.2],\n",
    "    'reg_alpha': [0, 0.01, 0.1],  # L1 regularization\n",
    "    'reg_lambda': [0, 0.01, 0.1]  # L2 regularization\n",
    "}\n",
    "model = xgb.XGBClassifier(objective='binary:logistic', eval_metric='auc', n_estimators=100)\n",
    "grid_search = GridSearchCV(estimator=model, param_grid=param_grid, scoring='roc_auc', cv=3, verbose=2)\n",
    "grid_search.fit(X_train, y_train)\n",
    "\n",
    "print(\"Beste hyperparameters gevonden:\")\n",
    "print(grid_search.best_params_)\n",
    "\n",
    "best_model = grid_search.best_estimator_\n",
    "y_pred_best = best_model.predict(X_test)\n",
    "\n"
   ]
  },
  {
   "cell_type": "code",
   "execution_count": 30,
   "metadata": {},
   "outputs": [
    {
     "data": {
      "image/png": "[encoded data removed]",
      "text/plain": [
       "<Figure size 640x480 with 1 Axes>"
      ]
     },
     "metadata": {},
     "output_type": "display_data"
    }
   ],
   "source": [
    "# ROC Curve\n",
    "y_pred_clf = model.predict(dtest_clf)\n",
    "fpr, tpr, _ = metrics.roc_curve(y_test,  y_pred_clf)\n",
    "auc = metrics.roc_auc_score(y_test, y_pred_clf)\n",
    "plt.plot(fpr, tpr, label=\"ROC Curve (AUC = {:.2f})\".format(auc))\n",
    "plt.xlabel('False Positive Rate (FPR)')\n",
    "plt.ylabel('True Positive Rate (TPR)')\n",
    "plt.legend(loc=4)\n",
    "plt.title('Receiver Operating Characteristic (ROC) Curve')\n",
    "plt.show()"
   ]
  },
  {
   "cell_type": "markdown",
   "metadata": {},
   "source": [
    "# LOGISTIC REGRESSION"
   ]
  },
  {
   "cell_type": "code",
   "execution_count": 83,
   "metadata": {},
   "outputs": [],
   "source": [
    "# INSTANTIATE THE MODEL\n",
    "logreg = LogisticRegression(random_state=16)\n",
    "logreg.fit(X_train, y_train)\n",
    "y_pred = logreg.predict(X_test)"
   ]
  },
  {
   "cell_type": "code",
   "execution_count": 85,
   "metadata": {},
   "outputs": [
    {
     "name": "stdout",
     "output_type": "stream",
     "text": [
      "Percentage of correctly classified labels: 63.96%\n"
     ]
    }
   ],
   "source": [
    "accuracy = accuracy_score(y_test, y_pred)\n",
    "percentage_correct = accuracy * 100\n",
    "\n",
    "print(f\"Percentage of correctly classified labels: {percentage_correct:.2f}%\")\n"
   ]
  },
  {
   "cell_type": "code",
   "execution_count": null,
   "metadata": {},
   "outputs": [],
   "source": [
    "# Assuming y_test and y_pred_clf are already defined\n",
    "y_pred_clf = logreg.predict_proba(X_test)[::,1]\n",
    "fpr, tpr, _ = metrics.roc_curve(y_test,  y_pred_clf)\n",
    "auc = metrics.roc_auc_score(y_test, y_pred_clf)\n",
    "\n",
    "# Plotting the ROC curve\n",
    "plt.plot(fpr, tpr, label=\"ROC Curve (AUC = {:.2f})\".format(auc))\n",
    "plt.xlabel('False Positive Rate (FPR)')\n",
    "plt.ylabel('True Positive Rate (TPR)')\n",
    "plt.legend(loc=4)\n",
    "plt.title('Receiver Operating Characteristic (ROC) Curve')\n",
    "plt.show()\n"
   ]
  },
  {
   "cell_type": "markdown",
   "metadata": {},
   "source": [
    "# SUPPORT VECTOR MACHINE (SVM)"
   ]
  },
  {
   "cell_type": "code",
   "execution_count": 91,
   "metadata": {},
   "outputs": [],
   "source": [
    "# MODEL TRAINING\n",
    "clf = svm.SVC(kernel='linear')\n",
    "clf.fit(X_train, y_train)\n",
    "y_pred = clf.predict(X_test)"
   ]
  },
  {
   "cell_type": "code",
   "execution_count": 94,
   "metadata": {},
   "outputs": [
    {
     "name": "stdout",
     "output_type": "stream",
     "text": [
      "Accuracy: 0.6521264994547438\n"
     ]
    }
   ],
   "source": [
    "print(\"Accuracy:\",metrics.accuracy_score(y_test, y_pred))\n"
   ]
  },
  {
   "cell_type": "markdown",
   "metadata": {},
   "source": [
    "# ENRICH GRIDS (RORY)"
   ]
  },
  {
   "cell_type": "code",
   "execution_count": 14,
   "metadata": {},
   "outputs": [],
   "source": [
    "# BUILDINGS\n",
    "GRIDS_TO_BE_ENRICHED_PATH = Path(\"final_data/grids/grids_to_be_enriched.csv\")\n",
    "grids = pd.read_csv(GRIDS_TO_BE_ENRICHED_PATH, sep=',', encoding='utf-8')\n",
    "grids = grids.drop('Unnamed: 0', axis=1)\n",
    "grids = grids.rename(columns={\"id\": \"grid_id\"})\n",
    "\n",
    "\n",
    "GRIDS_ENRICHED_BUILDINGS_PATH = Path(\"data_gebouwen/grid_enriched_buildings_200.csv\")\n",
    "buildings = pd.read_csv(GRIDS_ENRICHED_BUILDINGS_PATH, sep=',', encoding='utf-8')\n",
    "grids_enriched = grids.merge(buildings[['grid_id',\n",
    "                                        'has_building',\n",
    "                                        'Gemiddeld Bouwjaar',\n",
    "                                        'Gewogen Gemiddeld Bouwjaar',\n",
    "                                        'Na 2001',\n",
    "                                        '1986-2001',\n",
    "                                        '1970-1985',\n",
    "                                        '1920-1939',\n",
    "                                        '1860-1919',\n",
    "                                        '1940-1969',\n",
    "                                        'Voor 1860']])\n",
    "\n",
    "\n",
    "grids_enriched\n",
    "grids_enriched.to_csv('final_data/grids/grids_by_hand_enriched_buildings', sep=\",\", encoding=\"utf-8\", index=False)\n"
   ]
  },
  {
   "cell_type": "code",
   "execution_count": 35,
   "metadata": {},
   "outputs": [],
   "source": [
    "# roadsigns\n",
    "GRIDS_TO_BE_ENRICHED_PATH = Path(\"final_data/grids/grids_to_be_enriched.csv\")\n",
    "grids = pd.read_csv(GRIDS_TO_BE_ENRICHED_PATH, sep=',', encoding='utf-8')\n",
    "grids = grids.drop('Unnamed: 0', axis=1)\n",
    "grids = grids.rename(columns={\"id\": \"grid_id\"})\n",
    "\n",
    "\n",
    "GRIDS_ENRICHED_roadsigns_PATH = Path(\"data_roadsigns/grid_enriched_roadsigns_200.csv\")\n",
    "roadsigns = pd.read_csv(GRIDS_ENRICHED_roadsigns_PATH, sep=',', encoding='utf-8')\n",
    "grids_enriched = grids.merge(roadsigns.iloc[:, [0, 2, 3, 4, 5, 6, 7, 8, 9, 10, 11, 12, 13, 14, 15, 16]],\n",
    "                             on='grid_id').drop('Unnamed: 0', axis=1)\n",
    "\n",
    "\n",
    "\n",
    "grids_enriched\n",
    "grids_enriched.to_csv('final_data/grids/grids_by_hand_enriched_roadsigns', sep=\",\", encoding=\"utf-8\", index=False)"
   ]
  }
 ],
 "metadata": {
  "kernelspec": {
   "display_name": "Python 3",
   "language": "python",
   "name": "python3"
  },
  "language_info": {
   "codemirror_mode": {
    "name": "ipython",
    "version": 3
   },
   "file_extension": ".py",
   "mimetype": "text/x-python",
   "name": "python",
   "nbconvert_exporter": "python",
   "pygments_lexer": "ipython3",
   "version": "3.12.0"
  }
 },
 "nbformat": 4,
 "nbformat_minor": 2
}
